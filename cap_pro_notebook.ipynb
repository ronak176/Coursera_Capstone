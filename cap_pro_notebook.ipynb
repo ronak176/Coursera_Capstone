{
  "nbformat": 4,
  "nbformat_minor": 0,
  "metadata": {
    "colab": {
      "name": "cap_pro_notebook.ipynb",
      "provenance": []
    },
    "kernelspec": {
      "name": "python3",
      "display_name": "Python 3"
    },
    "language_info": {
      "name": "python"
    }
  },
  "cells": [
    {
      "cell_type": "markdown",
      "metadata": {
        "id": "xA0tIpq4EyOD"
      },
      "source": [
        "**Notebook for the Capstone Project by Ronak**"
      ]
    },
    {
      "cell_type": "code",
      "metadata": {
        "id": "ofcicaGTE7h6"
      },
      "source": [
        "import pandas as pd\n",
        "import numpy as np"
      ],
      "execution_count": 1,
      "outputs": []
    },
    {
      "cell_type": "code",
      "metadata": {
        "colab": {
          "base_uri": "https://localhost:8080/"
        },
        "id": "1E5Vr2bXFJMB",
        "outputId": "2b7f1b88-9c82-4590-ccf7-5324a46febb8"
      },
      "source": [
        "print(\"Hello Capstone Project Course\")"
      ],
      "execution_count": 2,
      "outputs": [
        {
          "output_type": "stream",
          "text": [
            "Hello Capstone Project Course\n"
          ],
          "name": "stdout"
        }
      ]
    },
    {
      "cell_type": "markdown",
      "metadata": {
        "id": "poso2ZHlEzq0"
      },
      "source": [
        ""
      ]
    }
  ]
}